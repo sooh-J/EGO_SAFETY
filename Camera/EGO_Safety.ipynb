{
 "cells": [
  {
   "cell_type": "markdown",
   "id": "4815ca17-854d-45ab-9d1f-b8a57c0a52e0",
   "metadata": {},
   "source": [
    "# 1번 라즈베리파이"
   ]
  },
  {
   "cell_type": "markdown",
   "id": "a74c15a6-55df-4900-8208-2917e7acb856",
   "metadata": {},
   "source": [
    "### 영상 촬영 (인자: 촬영시간, 파일명)"
   ]
  },
  {
   "cell_type": "code",
   "execution_count": 18,
   "id": "515eebaa-2ff3-459d-abc3-800e934215a0",
   "metadata": {},
   "outputs": [
    {
     "name": "stdin",
     "output_type": "stream",
     "text": [
      "record duration in sec:  5\n",
      "filename:  12.mp4\n"
     ]
    },
    {
     "name": "stdout",
     "output_type": "stream",
     "text": [
      "실행을 시작합니다.\n",
      "\n",
      "파일 복사 완료\n",
      "\n",
      "실행이 완료되었습니다.\n"
     ]
    }
   ],
   "source": [
    "#1번 라즈베리파이\n",
    "#영상 촬영\n",
    "import paramiko\n",
    "\n",
    "# 라즈베리 파이 SSH 연결 정보 설정\n",
    "hostname = '192.168.0.8'\n",
    "port = 22  # SSH 포트 (기본값은 22)\n",
    "username = 'piai_C4'\n",
    "password = '01089980361'\n",
    "duration = int(input(\"record duration in sec: \"))\n",
    "video_name = input(\"filename: \")\n",
    "\n",
    "\n",
    "# SSH 클라이언트 생성\n",
    "ssh_client = paramiko.SSHClient()\n",
    "ssh_client.set_missing_host_key_policy(paramiko.AutoAddPolicy())\n",
    "print(\"실행을 시작합니다.\\n\")\n",
    "try:\n",
    "    # SSH 서버에 연결\n",
    "    ssh_client.connect(hostname, port, username, password)\n",
    "\n",
    "    # 원격 서버에서 파이썬 practice.py 파일 실행 (영상 저장)\n",
    "    remote_command = 'python /home/piai_C4/Desktop/RecordVideo.py'\n",
    "\n",
    "    # Shell 실행\n",
    "    ssh_shell = ssh_client.invoke_shell()\n",
    "    \n",
    "    # 명령 실행\n",
    "    ssh_shell.send(remote_command + '\\n')\n",
    "    ssh_shell.send('%s\\n'%duration)\n",
    "    ssh_shell.send('%s\\n'%video_name)\n",
    "    \n",
    "    # 실행 결과 확인\n",
    "    while True:\n",
    "        output = ssh_shell.recv(1024)\n",
    "        if not output:\n",
    "            break\n",
    "        #print(output.decode('utf-8'), end='')\n",
    "        \n",
    "        # 스크립트 실행 완료 여부 확인\n",
    "        if \"Done\" in output.decode('utf-8'):\n",
    "            break\n",
    "    # SCP를 사용하여 파일 복사\n",
    "    source_file = \"/home/piai_C4/Desktop/%s\"%(video_name)\n",
    "    destination_path = \"/home/piai/바탕화면/EGO/%s\"%(video_name)\n",
    "    with ssh_client.open_sftp() as sftp:\n",
    "        sftp.get(source_file, destination_path)\n",
    "\n",
    "    print(\"파일 복사 완료\")\n",
    "    # 라즈베리 파이에서 파일 삭제\n",
    "    ssh_shell.send(f'rm {source_file}\\n')\n",
    "    ssh_shell.send('exit\\n')  # SSH 세션 종료\n",
    "    print(\"\\n실행이 완료되었습니다.\")\n",
    "    \n",
    "except Exception as e:\n",
    "    print(f\"오류 발생: {str(e)}\")\n",
    "\n",
    "finally:\n",
    "    # SSH 연결 종료\n",
    "    ssh_client.close()\n"
   ]
  },
  {
   "cell_type": "markdown",
   "id": "6e54c779-a90b-470d-b0ad-2769ad57048a",
   "metadata": {},
   "source": [
    "### 사진 촬영 (인자: 파일명)"
   ]
  },
  {
   "cell_type": "code",
   "execution_count": 3,
   "id": "580bdd5c-2d9c-4c5e-9d73-514f4d380afb",
   "metadata": {
    "scrolled": true
   },
   "outputs": [
    {
     "name": "stdin",
     "output_type": "stream",
     "text": [
      "fi동영상 가이드 라인 1.jpg\n"
     ]
    },
    {
     "name": "stdout",
     "output_type": "stream",
     "text": [
      "실행을 시작합니다.\n",
      "\n",
      "파일 복사 완료\n",
      "\n",
      "실행이 완료되었습니다.\n"
     ]
    }
   ],
   "source": [
    "#1번 라즈베리파이\n",
    "#사진 1장 촬영\n",
    "import paramiko\n",
    "\n",
    "# 라즈베리 파이 SSH 연결 정보 설정\n",
    "hostname = '192.168.0.8'\n",
    "port = 22  # SSH 포트 (기본값은 22)\n",
    "username = 'piai_C4'\n",
    "password = '01089980361'\n",
    "picture_name = input(\"picture name: \")\n",
    "\n",
    "\n",
    "# SSH 클라이언트 생성\n",
    "ssh_client = paramiko.SSHClient()\n",
    "ssh_client.set_missing_host_key_policy(paramiko.AutoAddPolicy())\n",
    "print(\"실행을 시작합니다.\\n\")\n",
    "try:\n",
    "    # SSH 서버에 연결\n",
    "    ssh_client.connect(hostname, port, username, password)\n",
    "\n",
    "    # 원격 서버에서 파이썬 practice.py 파일 실행 (영상 저장)\n",
    "    remote_command = 'python /home/piai_C4/Desktop/TakePicture.py'\n",
    "\n",
    "    # Shell 실행\n",
    "    ssh_shell = ssh_client.invoke_shell()\n",
    "    \n",
    "    # 명령 실행\n",
    "    ssh_shell.send(remote_command + '\\n')\n",
    "    #ssh_shell.send('%s\\n'%duration)\n",
    "    ssh_shell.send('%s\\n'%picture_name)\n",
    "    \n",
    "    # 실행 결과 확인\n",
    "    while True:\n",
    "        output = ssh_shell.recv(1024)\n",
    "        if not output:\n",
    "            break\n",
    "        #print(output.decode('utf-8'), end='')\n",
    "        \n",
    "        # 스크립트 실행 완료 여부 확인\n",
    "        if \"Done\" in output.decode('utf-8'):\n",
    "            break\n",
    "    # SCP를 사용하여 파일 복사\n",
    "    source_file = \"/home/piai_C4/Desktop/%s\"%(picture_name)\n",
    "    destination_path = \"/home/piai/바탕화면/EGO/%s\"%(picture_name)\n",
    "    with ssh_client.open_sftp() as sftp:\n",
    "        sftp.get(source_file, destination_path)\n",
    "\n",
    "    print(\"파일 복사 완료\")\n",
    "    # 라즈베리 파이에서 파일 삭제\n",
    "    ssh_shell.send(f'rm {source_file}\\n')\n",
    "    ssh_shell.send('exit\\n')  # SSH 세션 종료\n",
    "    print(\"\\n실행이 완료되었습니다.\")\n",
    "    \n",
    "except Exception as e:\n",
    "    print(f\"오류 발생: {str(e)}\")\n",
    "\n",
    "finally:\n",
    "    # SSH 연결 종료\n",
    "    ssh_client.close()\n"
   ]
  },
  {
   "cell_type": "markdown",
   "id": "76ecc4ff-8fa4-4766-b524-b87b83f0da2c",
   "metadata": {},
   "source": [
    "# 2번 라즈베리파이"
   ]
  },
  {
   "cell_type": "markdown",
   "id": "b2687109-1aef-4dde-99b2-b52a32a264f2",
   "metadata": {},
   "source": [
    "### 영상 촬영 (인자: 촬영시간, 파일명)"
   ]
  },
  {
   "cell_type": "code",
   "execution_count": 18,
   "id": "604ae1e5-bf84-43f7-95b5-a9753cce6258",
   "metadata": {},
   "outputs": [
    {
     "name": "stdin",
     "output_type": "stream",
     "text": [
      "record duration in sec:  5\n",
      "filename:  12.mp4\n"
     ]
    },
    {
     "name": "stdout",
     "output_type": "stream",
     "text": [
      "실행을 시작합니다.\n",
      "\n",
      "파일 복사 완료\n",
      "\n",
      "실행이 완료되었습니다.\n"
     ]
    }
   ],
   "source": [
    "#2번 라즈베리파이\n",
    "#영상 촬영\n",
    "import paramiko\n",
    "\n",
    "# 라즈베리 파이 SSH 연결 정보 설정\n",
    "hostname = '192.168.0.3'\n",
    "port = 22  # SSH 포트 (기본값은 22)\n",
    "username = 'piai2'\n",
    "password = '01089980361'\n",
    "duration = int(input(\"record duration in sec: \"))\n",
    "video_name = input(\"filename: \")\n",
    "\n",
    "\n",
    "# SSH 클라이언트 생성\n",
    "ssh_client = paramiko.SSHClient()\n",
    "ssh_client.set_missing_host_key_policy(paramiko.AutoAddPolicy())\n",
    "print(\"실행을 시작합니다.\\n\")\n",
    "try:\n",
    "    # SSH 서버에 연결\n",
    "    ssh_client.connect(hostname, port, username, password)\n",
    "\n",
    "    # 원격 서버에서 파이썬 practice.py 파일 실행 (영상 저장)\n",
    "    remote_command = 'python /home/piai2/Desktop/RecordVideo.py'\n",
    "\n",
    "    # Shell 실행\n",
    "    ssh_shell = ssh_client.invoke_shell()\n",
    "    \n",
    "    # 명령 실행\n",
    "    ssh_shell.send(remote_command + '\\n')\n",
    "    ssh_shell.send('%s\\n'%duration)\n",
    "    ssh_shell.send('%s\\n'%video_name)\n",
    "    \n",
    "    # 실행 결과 확인\n",
    "    while True:\n",
    "        output = ssh_shell.recv(1024)\n",
    "        if not output:\n",
    "            break\n",
    "        #print(output.decode('utf-8'), end='')\n",
    "        \n",
    "        # 스크립트 실행 완료 여부 확인\n",
    "        if \"Done\" in output.decode('utf-8'):\n",
    "            break\n",
    "    # SCP를 사용하여 파일 복사\n",
    "    source_file = \"/home/piai2/Desktop/%s\"%(video_name)\n",
    "    destination_path = \"/home/piai/바탕화면/EGO/%s\"%(video_name)\n",
    "    with ssh_client.open_sftp() as sftp:\n",
    "        sftp.get(source_file, destination_path)\n",
    "\n",
    "    print(\"파일 복사 완료\")\n",
    "    # 라즈베리 파이에서 파일 삭제\n",
    "    ssh_shell.send(f'rm {source_file}\\n')\n",
    "    ssh_shell.send('exit\\n')  # SSH 세션 종료\n",
    "    print(\"\\n실행이 완료되었습니다.\")\n",
    "    \n",
    "except Exception as e:\n",
    "    print(f\"오류 발생: {str(e)}\")\n",
    "\n",
    "finally:\n",
    "    # SSH 연결 종료\n",
    "    ssh_client.close()\n"
   ]
  },
  {
   "cell_type": "markdown",
   "id": "3ef21cb4-9094-4a84-bba1-a374bca9f331",
   "metadata": {},
   "source": [
    "### 사진 촬영 (인자: 파일명)"
   ]
  },
  {
   "cell_type": "code",
   "execution_count": 3,
   "id": "53dd4079-b029-446d-ad7a-87817e014a9c",
   "metadata": {
    "scrolled": true
   },
   "outputs": [
    {
     "name": "stdin",
     "output_type": "stream",
     "text": [
      "fi동영상 가이드 라인 1.jpg\n"
     ]
    },
    {
     "name": "stdout",
     "output_type": "stream",
     "text": [
      "실행을 시작합니다.\n",
      "\n",
      "파일 복사 완료\n",
      "\n",
      "실행이 완료되었습니다.\n"
     ]
    }
   ],
   "source": [
    "#2번 라즈베리파이\n",
    "#사진 1장 촬영\n",
    "import paramiko\n",
    "\n",
    "# 라즈베리 파이 SSH 연결 정보 설정\n",
    "hostname = '192.168.0.3'\n",
    "port = 22  # SSH 포트 (기본값은 22)\n",
    "username = 'piai2'\n",
    "password = '01089980361'\n",
    "picture_name = input(\"picture name:\")\n",
    "\n",
    "# SSH 클라이언트 생성\n",
    "ssh_client = paramiko.SSHClient()\n",
    "ssh_client.set_missing_host_key_policy(paramiko.AutoAddPolicy())\n",
    "print(\"실행을 시작합니다.\\n\")\n",
    "try:\n",
    "    # SSH 서버에 연결\n",
    "    ssh_client.connect(hostname, port, username, password)\n",
    "\n",
    "    # 원격 서버에서 파이썬 practice.py 파일 실행 (영상 저장)\n",
    "    remote_command = 'python /home/piai2/Desktop/TakePicture.py'\n",
    "\n",
    "    # Shell 실행\n",
    "    ssh_shell = ssh_client.invoke_shell()\n",
    "    \n",
    "    # 명령 실행\n",
    "    ssh_shell.send(remote_command + '\\n')\n",
    "    #ssh_shell.send('%s\\n'%duration)\n",
    "    ssh_shell.send('%s\\n'%picture_name)\n",
    "    \n",
    "    # 실행 결과 확인\n",
    "    while True:\n",
    "        output = ssh_shell.recv(1024)\n",
    "        if not output:\n",
    "            break\n",
    "        #print(output.decode('utf-8'), end='')\n",
    "        \n",
    "        # 스크립트 실행 완료 여부 확인\n",
    "        if \"Done\" in output.decode('utf-8'):\n",
    "            break\n",
    "    # SCP를 사용하여 파일 복사\n",
    "    source_file = \"/home/piai2/Desktop/%s\"%(picture_name)\n",
    "    destination_path = \"/home/piai/바탕화면/EGO/%s\"%(picture_name)\n",
    "    with ssh_client.open_sftp() as sftp:\n",
    "        sftp.get(source_file, destination_path)\n",
    "\n",
    "    print(\"파일 복사 완료\")\n",
    "    # 라즈베리 파이에서 파일 삭제\n",
    "    ssh_shell.send(f'rm {source_file}\\n')\n",
    "    ssh_shell.send('exit\\n')  # SSH 세션 종료\n",
    "    print(\"\\n실행이 완료되었습니다.\")\n",
    "    \n",
    "except Exception as e:\n",
    "    print(f\"오류 발생: {str(e)}\")\n",
    "\n",
    "finally:\n",
    "    # SSH 연결 종료\n",
    "    ssh_client.close()\n"
   ]
  }
 ],
 "metadata": {
  "kernelspec": {
   "display_name": "Python 3 (ipykernel)",
   "language": "python",
   "name": "python3"
  },
  "language_info": {
   "codemirror_mode": {
    "name": "ipython",
    "version": 3
   },
   "file_extension": ".py",
   "mimetype": "text/x-python",
   "name": "python",
   "nbconvert_exporter": "python",
   "pygments_lexer": "ipython3",
   "version": "3.10.9"
  }
 },
 "nbformat": 4,
 "nbformat_minor": 5
}
